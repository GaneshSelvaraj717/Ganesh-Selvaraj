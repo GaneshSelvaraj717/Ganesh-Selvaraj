{
  "nbformat": 4,
  "nbformat_minor": 0,
  "metadata": {
    "kernelspec": {
      "display_name": "Python 3",
      "language": "python",
      "name": "python3"
    },
    "language_info": {
      "codemirror_mode": {
        "name": "ipython",
        "version": 2
      },
      "file_extension": ".py",
      "mimetype": "text/x-python",
      "name": "python",
      "nbconvert_exporter": "python",
      "pygments_lexer": "ipython2",
      "version": "2.7.6"
    },
    "colab": {
      "name": "tf-keras-multi-output-model.ipynb",
      "provenance": [],
      "include_colab_link": true
    }
  },
  "cells": [
    {
      "cell_type": "markdown",
      "metadata": {
        "id": "view-in-github",
        "colab_type": "text"
      },
      "source": [
        "<a href=\"https://colab.research.google.com/github/GaneshSelvaraj717/Ganesh-Selvaraj/blob/master/tf_keras_multi_output_model.ipynb\" target=\"_parent\"><img src=\"https://colab.research.google.com/assets/colab-badge.svg\" alt=\"Open In Colab\"/></a>"
      ]
    },
    {
      "cell_type": "code",
      "metadata": {
        "collapsed": true,
        "id": "ZOYeMg5dhc5G"
      },
      "source": [
        "# Andrej Baranovskij, http://katanaml.io/\n",
        "# https://scikit-learn.org/stable/datasets/toy_dataset.html\n",
        "\n",
        "# Importing the libraries\n",
        "import pandas as pd\n",
        "import tensorflow as tf\n",
        "import numpy as np\n",
        "import matplotlib.pyplot as plt\n",
        "from tensorflow.keras.models import Model\n",
        "from tensorflow.keras.layers import Dense, Input\n",
        "from sklearn.model_selection import train_test_split\n",
        "\n",
        "# Importing the Boston Housing dataset\n",
        "from sklearn.datasets import load_boston"
      ],
      "execution_count": null,
      "outputs": []
    },
    {
      "cell_type": "code",
      "metadata": {
        "pycharm": {
          "name": "#%%\n"
        },
        "id": "8kHMUyE8hc5L"
      },
      "source": [
        "# Loading the Boston Housing dataset\n",
        "boston = load_boston()"
      ],
      "execution_count": null,
      "outputs": []
    },
    {
      "cell_type": "code",
      "metadata": {
        "pycharm": {
          "name": "#%%\n"
        },
        "id": "dcVpmgmdhc5L"
      },
      "source": [
        "# Initializing the dataframe\n",
        "data = pd.DataFrame(boston.data)"
      ],
      "execution_count": null,
      "outputs": []
    },
    {
      "cell_type": "code",
      "metadata": {
        "pycharm": {
          "name": "#%%\n"
        },
        "id": "oBZq1fSmhc5M"
      },
      "source": [
        "#Adding the feature names to the dataframe\n",
        "data.columns = boston.feature_names"
      ],
      "execution_count": null,
      "outputs": []
    },
    {
      "cell_type": "code",
      "metadata": {
        "pycharm": {
          "name": "#%%\n"
        },
        "colab": {
          "base_uri": "https://localhost:8080/",
          "height": 204
        },
        "id": "HQB-g31_hc5M",
        "outputId": "490557e5-c084-436a-8699-0284481c4dd1"
      },
      "source": [
        "#Adding target variable to dataframe\n",
        "data['PRICE'] = boston.target\n",
        "data.head()"
      ],
      "execution_count": null,
      "outputs": [
        {
          "output_type": "execute_result",
          "data": {
            "text/html": [
              "<div>\n",
              "<style scoped>\n",
              "    .dataframe tbody tr th:only-of-type {\n",
              "        vertical-align: middle;\n",
              "    }\n",
              "\n",
              "    .dataframe tbody tr th {\n",
              "        vertical-align: top;\n",
              "    }\n",
              "\n",
              "    .dataframe thead th {\n",
              "        text-align: right;\n",
              "    }\n",
              "</style>\n",
              "<table border=\"1\" class=\"dataframe\">\n",
              "  <thead>\n",
              "    <tr style=\"text-align: right;\">\n",
              "      <th></th>\n",
              "      <th>CRIM</th>\n",
              "      <th>ZN</th>\n",
              "      <th>INDUS</th>\n",
              "      <th>CHAS</th>\n",
              "      <th>NOX</th>\n",
              "      <th>RM</th>\n",
              "      <th>AGE</th>\n",
              "      <th>DIS</th>\n",
              "      <th>RAD</th>\n",
              "      <th>TAX</th>\n",
              "      <th>PTRATIO</th>\n",
              "      <th>B</th>\n",
              "      <th>LSTAT</th>\n",
              "      <th>PRICE</th>\n",
              "    </tr>\n",
              "  </thead>\n",
              "  <tbody>\n",
              "    <tr>\n",
              "      <th>0</th>\n",
              "      <td>0.00632</td>\n",
              "      <td>18.0</td>\n",
              "      <td>2.31</td>\n",
              "      <td>0.0</td>\n",
              "      <td>0.538</td>\n",
              "      <td>6.575</td>\n",
              "      <td>65.2</td>\n",
              "      <td>4.0900</td>\n",
              "      <td>1.0</td>\n",
              "      <td>296.0</td>\n",
              "      <td>15.3</td>\n",
              "      <td>396.90</td>\n",
              "      <td>4.98</td>\n",
              "      <td>24.0</td>\n",
              "    </tr>\n",
              "    <tr>\n",
              "      <th>1</th>\n",
              "      <td>0.02731</td>\n",
              "      <td>0.0</td>\n",
              "      <td>7.07</td>\n",
              "      <td>0.0</td>\n",
              "      <td>0.469</td>\n",
              "      <td>6.421</td>\n",
              "      <td>78.9</td>\n",
              "      <td>4.9671</td>\n",
              "      <td>2.0</td>\n",
              "      <td>242.0</td>\n",
              "      <td>17.8</td>\n",
              "      <td>396.90</td>\n",
              "      <td>9.14</td>\n",
              "      <td>21.6</td>\n",
              "    </tr>\n",
              "    <tr>\n",
              "      <th>2</th>\n",
              "      <td>0.02729</td>\n",
              "      <td>0.0</td>\n",
              "      <td>7.07</td>\n",
              "      <td>0.0</td>\n",
              "      <td>0.469</td>\n",
              "      <td>7.185</td>\n",
              "      <td>61.1</td>\n",
              "      <td>4.9671</td>\n",
              "      <td>2.0</td>\n",
              "      <td>242.0</td>\n",
              "      <td>17.8</td>\n",
              "      <td>392.83</td>\n",
              "      <td>4.03</td>\n",
              "      <td>34.7</td>\n",
              "    </tr>\n",
              "    <tr>\n",
              "      <th>3</th>\n",
              "      <td>0.03237</td>\n",
              "      <td>0.0</td>\n",
              "      <td>2.18</td>\n",
              "      <td>0.0</td>\n",
              "      <td>0.458</td>\n",
              "      <td>6.998</td>\n",
              "      <td>45.8</td>\n",
              "      <td>6.0622</td>\n",
              "      <td>3.0</td>\n",
              "      <td>222.0</td>\n",
              "      <td>18.7</td>\n",
              "      <td>394.63</td>\n",
              "      <td>2.94</td>\n",
              "      <td>33.4</td>\n",
              "    </tr>\n",
              "    <tr>\n",
              "      <th>4</th>\n",
              "      <td>0.06905</td>\n",
              "      <td>0.0</td>\n",
              "      <td>2.18</td>\n",
              "      <td>0.0</td>\n",
              "      <td>0.458</td>\n",
              "      <td>7.147</td>\n",
              "      <td>54.2</td>\n",
              "      <td>6.0622</td>\n",
              "      <td>3.0</td>\n",
              "      <td>222.0</td>\n",
              "      <td>18.7</td>\n",
              "      <td>396.90</td>\n",
              "      <td>5.33</td>\n",
              "      <td>36.2</td>\n",
              "    </tr>\n",
              "  </tbody>\n",
              "</table>\n",
              "</div>"
            ],
            "text/plain": [
              "      CRIM    ZN  INDUS  CHAS    NOX  ...    TAX  PTRATIO       B  LSTAT  PRICE\n",
              "0  0.00632  18.0   2.31   0.0  0.538  ...  296.0     15.3  396.90   4.98   24.0\n",
              "1  0.02731   0.0   7.07   0.0  0.469  ...  242.0     17.8  396.90   9.14   21.6\n",
              "2  0.02729   0.0   7.07   0.0  0.469  ...  242.0     17.8  392.83   4.03   34.7\n",
              "3  0.03237   0.0   2.18   0.0  0.458  ...  222.0     18.7  394.63   2.94   33.4\n",
              "4  0.06905   0.0   2.18   0.0  0.458  ...  222.0     18.7  396.90   5.33   36.2\n",
              "\n",
              "[5 rows x 14 columns]"
            ]
          },
          "metadata": {
            "tags": []
          },
          "execution_count": 5
        }
      ]
    },
    {
      "cell_type": "code",
      "metadata": {
        "pycharm": {
          "name": "#%%\n"
        },
        "colab": {
          "base_uri": "https://localhost:8080/"
        },
        "id": "nfWRHNUdhc5N",
        "outputId": "0540a9b8-352a-4532-ef71-37d08f6e1a33"
      },
      "source": [
        "#Check the shape of dataframe\n",
        "data.shape"
      ],
      "execution_count": null,
      "outputs": [
        {
          "output_type": "execute_result",
          "data": {
            "text/plain": [
              "(506, 14)"
            ]
          },
          "metadata": {
            "tags": []
          },
          "execution_count": 6
        }
      ]
    },
    {
      "cell_type": "code",
      "metadata": {
        "pycharm": {
          "name": "#%%\n"
        },
        "colab": {
          "base_uri": "https://localhost:8080/"
        },
        "id": "t1WZjZ-Rhc5N",
        "outputId": "08f6cd1b-c152-452f-d4d3-5bb8a4f568aa"
      },
      "source": [
        "data.columns"
      ],
      "execution_count": null,
      "outputs": [
        {
          "output_type": "execute_result",
          "data": {
            "text/plain": [
              "Index(['CRIM', 'ZN', 'INDUS', 'CHAS', 'NOX', 'RM', 'AGE', 'DIS', 'RAD', 'TAX',\n",
              "       'PTRATIO', 'B', 'LSTAT', 'PRICE'],\n",
              "      dtype='object')"
            ]
          },
          "metadata": {
            "tags": []
          },
          "execution_count": 7
        }
      ]
    },
    {
      "cell_type": "code",
      "metadata": {
        "pycharm": {
          "name": "#%%\n"
        },
        "id": "dxDUWF46hc5N"
      },
      "source": [
        "# Split the data into train and test with 80 train / 20 test\n",
        "train, test = train_test_split(data, test_size=0.2, random_state = 1)\n",
        "train, val = train_test_split(train, test_size=0.2, random_state = 1)"
      ],
      "execution_count": null,
      "outputs": []
    },
    {
      "cell_type": "code",
      "metadata": {
        "pycharm": {
          "name": "#%%\n"
        },
        "id": "ipVt5rwRhc5N"
      },
      "source": [
        "# Helper functions\n",
        "def norm(x):\n",
        "    return (x - train_stats['mean']) / train_stats['std']\n",
        "\n",
        "def format_output(data):\n",
        "    y1 = data.pop('PRICE')\n",
        "    y1 = np.array(y1)\n",
        "    y2 = data.pop('PTRATIO')\n",
        "    y2 = np.array(y2)\n",
        "    return y1, y2"
      ],
      "execution_count": null,
      "outputs": []
    },
    {
      "cell_type": "code",
      "metadata": {
        "pycharm": {
          "name": "#%%\n"
        },
        "id": "DaB-D9J-hc5O",
        "colab": {
          "base_uri": "https://localhost:8080/"
        },
        "outputId": "ba6c5202-2c89-4df3-96e9-17fc8a43b370"
      },
      "source": [
        "# Get PRICE and PTRATIO as the 2 outputs and format them as np arrays\n",
        "# PTRATIO - pupil-teacher ratio by town\n",
        "train_stats = train.describe()\n",
        "train_stats.pop('PRICE')\n",
        "train_stats.pop('PTRATIO')\n",
        "train_stats = train_stats.transpose()\n",
        "train_Y = format_output(train)\n",
        "test_Y = format_output(test)\n",
        "val_Y = format_output(val)\n",
        "\n",
        "print(train_stats)"
      ],
      "execution_count": null,
      "outputs": [
        {
          "output_type": "stream",
          "text": [
            "       count        mean         std  ...        50%         75%       max\n",
            "CRIM   323.0    3.882044    9.680410  ...    0.25387    3.944055   88.9762\n",
            "ZN     323.0   12.233746   24.323780  ...    0.00000   19.000000  100.0000\n",
            "INDUS  323.0   11.121796    6.876617  ...    8.56000   18.100000   27.7400\n",
            "CHAS   323.0    0.080495    0.272481  ...    0.00000    0.000000    1.0000\n",
            "NOX    323.0    0.553683    0.118625  ...    0.53200    0.624000    0.8710\n",
            "RM     323.0    6.276935    0.691051  ...    6.19300    6.666500    8.7800\n",
            "AGE    323.0   68.279876   28.452257  ...   77.70000   93.900000  100.0000\n",
            "DIS    323.0    3.864749    2.154972  ...    3.36030    5.237900   12.1265\n",
            "RAD    323.0    9.721362    8.801984  ...    5.00000   24.000000   24.0000\n",
            "TAX    323.0  406.588235  170.365557  ...  329.00000  666.000000  711.0000\n",
            "B      323.0  359.145604   89.252050  ...  391.93000  396.100000  396.9000\n",
            "LSTAT  323.0   12.733529    7.251569  ...   11.45000   17.155000   37.9700\n",
            "\n",
            "[12 rows x 8 columns]\n"
          ],
          "name": "stdout"
        }
      ]
    },
    {
      "cell_type": "code",
      "metadata": {
        "pycharm": {
          "name": "#%%\n"
        },
        "id": "7KjLlcXZhc5O"
      },
      "source": [
        "# Normalize the training and test data\n",
        "norm_train_X = np.array(norm(train))\n",
        "norm_test_X = np.array(norm(test))\n",
        "norm_val_X = np.array(norm(val))"
      ],
      "execution_count": null,
      "outputs": []
    },
    {
      "cell_type": "code",
      "metadata": {
        "pycharm": {
          "name": "#%%\n"
        },
        "id": "0fSfnEGahc5O"
      },
      "source": [
        "def build_model():\n",
        "    # Define model layers.\n",
        "    input_layer = Input(shape=(len(train .columns),))\n",
        "    first_dense = Dense(units='128', activation='relu')(input_layer)\n",
        "    # Y1 output will be fed from the first dense\n",
        "    y1_output = Dense(units='1', name='price_output')(first_dense)\n",
        "\n",
        "    second_dense = Dense(units='128', activation='relu')(first_dense)\n",
        "    # Y2 output will be fed from the second dense\n",
        "    y2_output = Dense(units='1', name='ptratio_output')(second_dense)\n",
        "\n",
        "    # Define the model with the input layer and a list of output layers\n",
        "    model = Model(inputs=input_layer, outputs=[y1_output, y2_output])\n",
        "\n",
        "    return model"
      ],
      "execution_count": null,
      "outputs": []
    },
    {
      "cell_type": "code",
      "metadata": {
        "pycharm": {
          "name": "#%%\n"
        },
        "id": "XbJwIjXshc5O"
      },
      "source": [
        "model = build_model()\n",
        "\n",
        "# Specify the optimizer, and compile the model with loss functions for both outputs\n",
        "optimizer = tf.keras.optimizers.SGD(lr=0.001)\n",
        "model.compile(optimizer=optimizer,\n",
        "              loss={'price_output': 'mse', 'ptratio_output': 'mse'},\n",
        "              metrics={'price_output': tf.keras.metrics.RootMeanSquaredError(),\n",
        "                       'ptratio_output': tf.keras.metrics.RootMeanSquaredError()})"
      ],
      "execution_count": null,
      "outputs": []
    },
    {
      "cell_type": "code",
      "metadata": {
        "pycharm": {
          "name": "#%%\n"
        },
        "colab": {
          "base_uri": "https://localhost:8080/"
        },
        "id": "FqFjmQzbhc5P",
        "outputId": "1f551e12-9695-4f39-957a-63ea798c3cc1"
      },
      "source": [
        "# Train the model for 100 epochs\n",
        "history = model.fit(norm_train_X, train_Y,\n",
        "                    epochs=100, batch_size=10, validation_data=(norm_test_X, test_Y))"
      ],
      "execution_count": null,
      "outputs": [
        {
          "output_type": "stream",
          "text": [
            "Epoch 1/100\n",
            "33/33 [==============================] - 1s 19ms/step - loss: 697.9494 - price_output_loss: 465.9416 - ptratio_output_loss: 232.0078 - price_output_root_mean_squared_error: 21.4632 - ptratio_output_root_mean_squared_error: 15.0652 - val_loss: 137.1943 - val_price_output_loss: 116.4985 - val_ptratio_output_loss: 20.6958 - val_price_output_root_mean_squared_error: 10.7934 - val_ptratio_output_root_mean_squared_error: 4.5493\n",
            "Epoch 2/100\n",
            "33/33 [==============================] - 0s 3ms/step - loss: 83.9645 - price_output_loss: 66.8644 - ptratio_output_loss: 17.1000 - price_output_root_mean_squared_error: 8.1557 - ptratio_output_root_mean_squared_error: 4.1162 - val_loss: 54.5322 - val_price_output_loss: 43.7033 - val_ptratio_output_loss: 10.8289 - val_price_output_root_mean_squared_error: 6.6108 - val_ptratio_output_root_mean_squared_error: 3.2907\n",
            "Epoch 3/100\n",
            "33/33 [==============================] - 0s 3ms/step - loss: 48.2559 - price_output_loss: 38.2761 - ptratio_output_loss: 9.9799 - price_output_root_mean_squared_error: 6.1716 - ptratio_output_root_mean_squared_error: 3.1498 - val_loss: 40.5430 - val_price_output_loss: 32.9815 - val_ptratio_output_loss: 7.5614 - val_price_output_root_mean_squared_error: 5.7430 - val_ptratio_output_root_mean_squared_error: 2.7498\n",
            "Epoch 4/100\n",
            "33/33 [==============================] - 0s 3ms/step - loss: 31.9444 - price_output_loss: 25.2272 - ptratio_output_loss: 6.7172 - price_output_root_mean_squared_error: 5.0029 - ptratio_output_root_mean_squared_error: 2.5860 - val_loss: 35.1903 - val_price_output_loss: 27.8686 - val_ptratio_output_loss: 7.3217 - val_price_output_root_mean_squared_error: 5.2791 - val_ptratio_output_root_mean_squared_error: 2.7059\n",
            "Epoch 5/100\n",
            "33/33 [==============================] - 0s 3ms/step - loss: 26.4198 - price_output_loss: 21.5403 - ptratio_output_loss: 4.8795 - price_output_root_mean_squared_error: 4.6049 - ptratio_output_root_mean_squared_error: 2.2079 - val_loss: 29.3858 - val_price_output_loss: 24.2073 - val_ptratio_output_loss: 5.1786 - val_price_output_root_mean_squared_error: 4.9201 - val_ptratio_output_root_mean_squared_error: 2.2756\n",
            "Epoch 6/100\n",
            "33/33 [==============================] - 0s 3ms/step - loss: 23.6781 - price_output_loss: 19.6354 - ptratio_output_loss: 4.0427 - price_output_root_mean_squared_error: 4.4084 - ptratio_output_root_mean_squared_error: 2.0088 - val_loss: 27.9464 - val_price_output_loss: 21.9315 - val_ptratio_output_loss: 6.0148 - val_price_output_root_mean_squared_error: 4.6831 - val_ptratio_output_root_mean_squared_error: 2.4525\n",
            "Epoch 7/100\n",
            "33/33 [==============================] - 0s 3ms/step - loss: 24.4128 - price_output_loss: 19.8384 - ptratio_output_loss: 4.5744 - price_output_root_mean_squared_error: 4.4420 - ptratio_output_root_mean_squared_error: 2.1350 - val_loss: 25.0433 - val_price_output_loss: 20.2776 - val_ptratio_output_loss: 4.7657 - val_price_output_root_mean_squared_error: 4.5031 - val_ptratio_output_root_mean_squared_error: 2.1830\n",
            "Epoch 8/100\n",
            "33/33 [==============================] - 0s 3ms/step - loss: 25.5933 - price_output_loss: 22.0251 - ptratio_output_loss: 3.5682 - price_output_root_mean_squared_error: 4.6613 - ptratio_output_root_mean_squared_error: 1.8861 - val_loss: 24.6598 - val_price_output_loss: 19.7422 - val_ptratio_output_loss: 4.9175 - val_price_output_root_mean_squared_error: 4.4432 - val_ptratio_output_root_mean_squared_error: 2.2176\n",
            "Epoch 9/100\n",
            "33/33 [==============================] - 0s 3ms/step - loss: 20.9123 - price_output_loss: 16.8284 - ptratio_output_loss: 4.0839 - price_output_root_mean_squared_error: 4.0827 - ptratio_output_root_mean_squared_error: 2.0178 - val_loss: 22.8458 - val_price_output_loss: 18.5774 - val_ptratio_output_loss: 4.2684 - val_price_output_root_mean_squared_error: 4.3102 - val_ptratio_output_root_mean_squared_error: 2.0660\n",
            "Epoch 10/100\n",
            "33/33 [==============================] - 0s 3ms/step - loss: 18.4201 - price_output_loss: 15.0759 - ptratio_output_loss: 3.3441 - price_output_root_mean_squared_error: 3.8558 - ptratio_output_root_mean_squared_error: 1.8213 - val_loss: 21.9840 - val_price_output_loss: 17.8275 - val_ptratio_output_loss: 4.1565 - val_price_output_root_mean_squared_error: 4.2223 - val_ptratio_output_root_mean_squared_error: 2.0388\n",
            "Epoch 11/100\n",
            "33/33 [==============================] - 0s 3ms/step - loss: 20.0284 - price_output_loss: 16.9822 - ptratio_output_loss: 3.0462 - price_output_root_mean_squared_error: 4.1018 - ptratio_output_root_mean_squared_error: 1.7412 - val_loss: 21.5747 - val_price_output_loss: 17.2494 - val_ptratio_output_loss: 4.3253 - val_price_output_root_mean_squared_error: 4.1532 - val_ptratio_output_root_mean_squared_error: 2.0797\n",
            "Epoch 12/100\n",
            "33/33 [==============================] - 0s 3ms/step - loss: 20.5549 - price_output_loss: 17.3834 - ptratio_output_loss: 3.1714 - price_output_root_mean_squared_error: 4.1614 - ptratio_output_root_mean_squared_error: 1.7792 - val_loss: 20.3362 - val_price_output_loss: 16.3327 - val_ptratio_output_loss: 4.0034 - val_price_output_root_mean_squared_error: 4.0414 - val_ptratio_output_root_mean_squared_error: 2.0009\n",
            "Epoch 13/100\n",
            "33/33 [==============================] - 0s 7ms/step - loss: 19.2901 - price_output_loss: 16.1372 - ptratio_output_loss: 3.1529 - price_output_root_mean_squared_error: 3.9749 - ptratio_output_root_mean_squared_error: 1.7747 - val_loss: 20.1640 - val_price_output_loss: 16.5057 - val_ptratio_output_loss: 3.6584 - val_price_output_root_mean_squared_error: 4.0627 - val_ptratio_output_root_mean_squared_error: 1.9127\n",
            "Epoch 14/100\n",
            "33/33 [==============================] - 0s 4ms/step - loss: 19.2368 - price_output_loss: 16.4051 - ptratio_output_loss: 2.8317 - price_output_root_mean_squared_error: 4.0106 - ptratio_output_root_mean_squared_error: 1.6701 - val_loss: 19.2413 - val_price_output_loss: 15.6779 - val_ptratio_output_loss: 3.5634 - val_price_output_root_mean_squared_error: 3.9595 - val_ptratio_output_root_mean_squared_error: 1.8877\n",
            "Epoch 15/100\n",
            "33/33 [==============================] - 0s 3ms/step - loss: 17.3266 - price_output_loss: 14.3647 - ptratio_output_loss: 2.9619 - price_output_root_mean_squared_error: 3.7648 - ptratio_output_root_mean_squared_error: 1.7193 - val_loss: 19.5474 - val_price_output_loss: 15.3832 - val_ptratio_output_loss: 4.1643 - val_price_output_root_mean_squared_error: 3.9221 - val_ptratio_output_root_mean_squared_error: 2.0407\n",
            "Epoch 16/100\n",
            "33/33 [==============================] - 0s 3ms/step - loss: 16.9986 - price_output_loss: 13.5323 - ptratio_output_loss: 3.4663 - price_output_root_mean_squared_error: 3.6497 - ptratio_output_root_mean_squared_error: 1.8562 - val_loss: 20.3520 - val_price_output_loss: 15.5287 - val_ptratio_output_loss: 4.8234 - val_price_output_root_mean_squared_error: 3.9406 - val_ptratio_output_root_mean_squared_error: 2.1962\n",
            "Epoch 17/100\n",
            "33/33 [==============================] - 0s 3ms/step - loss: 18.3957 - price_output_loss: 15.4777 - ptratio_output_loss: 2.9180 - price_output_root_mean_squared_error: 3.9255 - ptratio_output_root_mean_squared_error: 1.7062 - val_loss: 18.7104 - val_price_output_loss: 15.1974 - val_ptratio_output_loss: 3.5130 - val_price_output_root_mean_squared_error: 3.8984 - val_ptratio_output_root_mean_squared_error: 1.8743\n",
            "Epoch 18/100\n",
            "33/33 [==============================] - 0s 4ms/step - loss: 17.3860 - price_output_loss: 14.8142 - ptratio_output_loss: 2.5718 - price_output_root_mean_squared_error: 3.8236 - ptratio_output_root_mean_squared_error: 1.6008 - val_loss: 18.2185 - val_price_output_loss: 14.8916 - val_ptratio_output_loss: 3.3269 - val_price_output_root_mean_squared_error: 3.8590 - val_ptratio_output_root_mean_squared_error: 1.8240\n",
            "Epoch 19/100\n",
            "33/33 [==============================] - 0s 3ms/step - loss: 15.8825 - price_output_loss: 13.2956 - ptratio_output_loss: 2.5869 - price_output_root_mean_squared_error: 3.6220 - ptratio_output_root_mean_squared_error: 1.6041 - val_loss: 19.2427 - val_price_output_loss: 15.6298 - val_ptratio_output_loss: 3.6129 - val_price_output_root_mean_squared_error: 3.9535 - val_ptratio_output_root_mean_squared_error: 1.9008\n",
            "Epoch 20/100\n",
            "33/33 [==============================] - 0s 3ms/step - loss: 20.2249 - price_output_loss: 17.2500 - ptratio_output_loss: 2.9749 - price_output_root_mean_squared_error: 4.0999 - ptratio_output_root_mean_squared_error: 1.7208 - val_loss: 18.8706 - val_price_output_loss: 15.3430 - val_ptratio_output_loss: 3.5276 - val_price_output_root_mean_squared_error: 3.9170 - val_ptratio_output_root_mean_squared_error: 1.8782\n",
            "Epoch 21/100\n",
            "33/33 [==============================] - 0s 3ms/step - loss: 23.7858 - price_output_loss: 21.0525 - ptratio_output_loss: 2.7333 - price_output_root_mean_squared_error: 4.5351 - ptratio_output_root_mean_squared_error: 1.6522 - val_loss: 17.5610 - val_price_output_loss: 14.3313 - val_ptratio_output_loss: 3.2297 - val_price_output_root_mean_squared_error: 3.7857 - val_ptratio_output_root_mean_squared_error: 1.7971\n",
            "Epoch 22/100\n",
            "33/33 [==============================] - 0s 3ms/step - loss: 15.8294 - price_output_loss: 13.3186 - ptratio_output_loss: 2.5108 - price_output_root_mean_squared_error: 3.6365 - ptratio_output_root_mean_squared_error: 1.5817 - val_loss: 17.3221 - val_price_output_loss: 14.0995 - val_ptratio_output_loss: 3.2226 - val_price_output_root_mean_squared_error: 3.7549 - val_ptratio_output_root_mean_squared_error: 1.7952\n",
            "Epoch 23/100\n",
            "33/33 [==============================] - 0s 3ms/step - loss: 13.4658 - price_output_loss: 10.7072 - ptratio_output_loss: 2.7587 - price_output_root_mean_squared_error: 3.2458 - ptratio_output_root_mean_squared_error: 1.6596 - val_loss: 17.5850 - val_price_output_loss: 14.4422 - val_ptratio_output_loss: 3.1428 - val_price_output_root_mean_squared_error: 3.8003 - val_ptratio_output_root_mean_squared_error: 1.7728\n",
            "Epoch 24/100\n",
            "33/33 [==============================] - 0s 3ms/step - loss: 15.4408 - price_output_loss: 12.9844 - ptratio_output_loss: 2.4563 - price_output_root_mean_squared_error: 3.5876 - ptratio_output_root_mean_squared_error: 1.5640 - val_loss: 17.2855 - val_price_output_loss: 14.1128 - val_ptratio_output_loss: 3.1727 - val_price_output_root_mean_squared_error: 3.7567 - val_ptratio_output_root_mean_squared_error: 1.7812\n",
            "Epoch 25/100\n",
            "33/33 [==============================] - 0s 3ms/step - loss: 14.9779 - price_output_loss: 12.5097 - ptratio_output_loss: 2.4681 - price_output_root_mean_squared_error: 3.5279 - ptratio_output_root_mean_squared_error: 1.5691 - val_loss: 16.5664 - val_price_output_loss: 13.5027 - val_ptratio_output_loss: 3.0637 - val_price_output_root_mean_squared_error: 3.6746 - val_ptratio_output_root_mean_squared_error: 1.7503\n",
            "Epoch 26/100\n",
            "33/33 [==============================] - 0s 3ms/step - loss: 14.3118 - price_output_loss: 12.0724 - ptratio_output_loss: 2.2393 - price_output_root_mean_squared_error: 3.4367 - ptratio_output_root_mean_squared_error: 1.4956 - val_loss: 16.8004 - val_price_output_loss: 13.4541 - val_ptratio_output_loss: 3.3463 - val_price_output_root_mean_squared_error: 3.6680 - val_ptratio_output_root_mean_squared_error: 1.8293\n",
            "Epoch 27/100\n",
            "33/33 [==============================] - 0s 3ms/step - loss: 13.9953 - price_output_loss: 11.6109 - ptratio_output_loss: 2.3844 - price_output_root_mean_squared_error: 3.3756 - ptratio_output_root_mean_squared_error: 1.5394 - val_loss: 15.8033 - val_price_output_loss: 12.9217 - val_ptratio_output_loss: 2.8816 - val_price_output_root_mean_squared_error: 3.5947 - val_ptratio_output_root_mean_squared_error: 1.6975\n",
            "Epoch 28/100\n",
            "33/33 [==============================] - 0s 3ms/step - loss: 17.9016 - price_output_loss: 15.4489 - ptratio_output_loss: 2.4527 - price_output_root_mean_squared_error: 3.9076 - ptratio_output_root_mean_squared_error: 1.5644 - val_loss: 16.0990 - val_price_output_loss: 12.8176 - val_ptratio_output_loss: 3.2814 - val_price_output_root_mean_squared_error: 3.5802 - val_ptratio_output_root_mean_squared_error: 1.8115\n",
            "Epoch 29/100\n",
            "33/33 [==============================] - 0s 3ms/step - loss: 14.1688 - price_output_loss: 11.9082 - ptratio_output_loss: 2.2606 - price_output_root_mean_squared_error: 3.4358 - ptratio_output_root_mean_squared_error: 1.5026 - val_loss: 15.8602 - val_price_output_loss: 12.8911 - val_ptratio_output_loss: 2.9691 - val_price_output_root_mean_squared_error: 3.5904 - val_ptratio_output_root_mean_squared_error: 1.7231\n",
            "Epoch 30/100\n",
            "33/33 [==============================] - 0s 3ms/step - loss: 16.0667 - price_output_loss: 14.1079 - ptratio_output_loss: 1.9588 - price_output_root_mean_squared_error: 3.7395 - ptratio_output_root_mean_squared_error: 1.3973 - val_loss: 16.4145 - val_price_output_loss: 12.9190 - val_ptratio_output_loss: 3.4955 - val_price_output_root_mean_squared_error: 3.5943 - val_ptratio_output_root_mean_squared_error: 1.8696\n",
            "Epoch 31/100\n",
            "33/33 [==============================] - 0s 3ms/step - loss: 13.2691 - price_output_loss: 11.0376 - ptratio_output_loss: 2.2315 - price_output_root_mean_squared_error: 3.2623 - ptratio_output_root_mean_squared_error: 1.4936 - val_loss: 15.6928 - val_price_output_loss: 12.6671 - val_ptratio_output_loss: 3.0257 - val_price_output_root_mean_squared_error: 3.5591 - val_ptratio_output_root_mean_squared_error: 1.7394\n",
            "Epoch 32/100\n",
            "33/33 [==============================] - 0s 3ms/step - loss: 13.5934 - price_output_loss: 11.4976 - ptratio_output_loss: 2.0958 - price_output_root_mean_squared_error: 3.3739 - ptratio_output_root_mean_squared_error: 1.4456 - val_loss: 15.5820 - val_price_output_loss: 12.7650 - val_ptratio_output_loss: 2.8169 - val_price_output_root_mean_squared_error: 3.5728 - val_ptratio_output_root_mean_squared_error: 1.6784\n",
            "Epoch 33/100\n",
            "33/33 [==============================] - 0s 3ms/step - loss: 16.0811 - price_output_loss: 13.8511 - ptratio_output_loss: 2.2299 - price_output_root_mean_squared_error: 3.7081 - ptratio_output_root_mean_squared_error: 1.4898 - val_loss: 15.6157 - val_price_output_loss: 12.6942 - val_ptratio_output_loss: 2.9216 - val_price_output_root_mean_squared_error: 3.5629 - val_ptratio_output_root_mean_squared_error: 1.7093\n",
            "Epoch 34/100\n",
            "33/33 [==============================] - 0s 3ms/step - loss: 14.5659 - price_output_loss: 12.7010 - ptratio_output_loss: 1.8649 - price_output_root_mean_squared_error: 3.5373 - ptratio_output_root_mean_squared_error: 1.3595 - val_loss: 15.1566 - val_price_output_loss: 12.2952 - val_ptratio_output_loss: 2.8614 - val_price_output_root_mean_squared_error: 3.5064 - val_ptratio_output_root_mean_squared_error: 1.6916\n",
            "Epoch 35/100\n",
            "33/33 [==============================] - 0s 3ms/step - loss: 16.3023 - price_output_loss: 14.1266 - ptratio_output_loss: 2.1757 - price_output_root_mean_squared_error: 3.6977 - ptratio_output_root_mean_squared_error: 1.4743 - val_loss: 14.9054 - val_price_output_loss: 12.0883 - val_ptratio_output_loss: 2.8171 - val_price_output_root_mean_squared_error: 3.4768 - val_ptratio_output_root_mean_squared_error: 1.6784\n",
            "Epoch 36/100\n",
            "33/33 [==============================] - 0s 3ms/step - loss: 13.9458 - price_output_loss: 11.8122 - ptratio_output_loss: 2.1335 - price_output_root_mean_squared_error: 3.4300 - ptratio_output_root_mean_squared_error: 1.4586 - val_loss: 16.2099 - val_price_output_loss: 12.5993 - val_ptratio_output_loss: 3.6106 - val_price_output_root_mean_squared_error: 3.5495 - val_ptratio_output_root_mean_squared_error: 1.9002\n",
            "Epoch 37/100\n",
            "33/33 [==============================] - 0s 3ms/step - loss: 12.3961 - price_output_loss: 10.4050 - ptratio_output_loss: 1.9911 - price_output_root_mean_squared_error: 3.2101 - ptratio_output_root_mean_squared_error: 1.4095 - val_loss: 17.3173 - val_price_output_loss: 13.9284 - val_ptratio_output_loss: 3.3889 - val_price_output_root_mean_squared_error: 3.7321 - val_ptratio_output_root_mean_squared_error: 1.8409\n",
            "Epoch 38/100\n",
            "33/33 [==============================] - 0s 3ms/step - loss: 14.8956 - price_output_loss: 12.8213 - ptratio_output_loss: 2.0744 - price_output_root_mean_squared_error: 3.5737 - ptratio_output_root_mean_squared_error: 1.4384 - val_loss: 15.8465 - val_price_output_loss: 12.8653 - val_ptratio_output_loss: 2.9812 - val_price_output_root_mean_squared_error: 3.5868 - val_ptratio_output_root_mean_squared_error: 1.7266\n",
            "Epoch 39/100\n",
            "33/33 [==============================] - 0s 3ms/step - loss: 18.1036 - price_output_loss: 16.0250 - ptratio_output_loss: 2.0786 - price_output_root_mean_squared_error: 3.9488 - ptratio_output_root_mean_squared_error: 1.4411 - val_loss: 14.8263 - val_price_output_loss: 11.9269 - val_ptratio_output_loss: 2.8993 - val_price_output_root_mean_squared_error: 3.4535 - val_ptratio_output_root_mean_squared_error: 1.7027\n",
            "Epoch 40/100\n",
            "33/33 [==============================] - 0s 3ms/step - loss: 13.8421 - price_output_loss: 11.6655 - ptratio_output_loss: 2.1766 - price_output_root_mean_squared_error: 3.4005 - ptratio_output_root_mean_squared_error: 1.4705 - val_loss: 14.9185 - val_price_output_loss: 11.7962 - val_ptratio_output_loss: 3.1223 - val_price_output_root_mean_squared_error: 3.4346 - val_ptratio_output_root_mean_squared_error: 1.7670\n",
            "Epoch 41/100\n",
            "33/33 [==============================] - 0s 3ms/step - loss: 13.1736 - price_output_loss: 11.3957 - ptratio_output_loss: 1.7779 - price_output_root_mean_squared_error: 3.3576 - ptratio_output_root_mean_squared_error: 1.3274 - val_loss: 14.7306 - val_price_output_loss: 11.8616 - val_ptratio_output_loss: 2.8690 - val_price_output_root_mean_squared_error: 3.4441 - val_ptratio_output_root_mean_squared_error: 1.6938\n",
            "Epoch 42/100\n",
            "33/33 [==============================] - 0s 3ms/step - loss: 13.6481 - price_output_loss: 11.4178 - ptratio_output_loss: 2.2303 - price_output_root_mean_squared_error: 3.3712 - ptratio_output_root_mean_squared_error: 1.4890 - val_loss: 14.6532 - val_price_output_loss: 11.9438 - val_ptratio_output_loss: 2.7094 - val_price_output_root_mean_squared_error: 3.4560 - val_ptratio_output_root_mean_squared_error: 1.6460\n",
            "Epoch 43/100\n",
            "33/33 [==============================] - 0s 3ms/step - loss: 10.6686 - price_output_loss: 8.9910 - ptratio_output_loss: 1.6776 - price_output_root_mean_squared_error: 2.9642 - ptratio_output_root_mean_squared_error: 1.2931 - val_loss: 15.9145 - val_price_output_loss: 11.8896 - val_ptratio_output_loss: 4.0249 - val_price_output_root_mean_squared_error: 3.4481 - val_ptratio_output_root_mean_squared_error: 2.0062\n",
            "Epoch 44/100\n",
            "33/33 [==============================] - 0s 3ms/step - loss: 12.5406 - price_output_loss: 10.1702 - ptratio_output_loss: 2.3704 - price_output_root_mean_squared_error: 3.1553 - ptratio_output_root_mean_squared_error: 1.5329 - val_loss: 14.6258 - val_price_output_loss: 11.9982 - val_ptratio_output_loss: 2.6277 - val_price_output_root_mean_squared_error: 3.4638 - val_ptratio_output_root_mean_squared_error: 1.6210\n",
            "Epoch 45/100\n",
            "33/33 [==============================] - 0s 3ms/step - loss: 14.9242 - price_output_loss: 12.8936 - ptratio_output_loss: 2.0307 - price_output_root_mean_squared_error: 3.5877 - ptratio_output_root_mean_squared_error: 1.4226 - val_loss: 14.5259 - val_price_output_loss: 11.7599 - val_ptratio_output_loss: 2.7660 - val_price_output_root_mean_squared_error: 3.4293 - val_ptratio_output_root_mean_squared_error: 1.6631\n",
            "Epoch 46/100\n",
            "33/33 [==============================] - 0s 3ms/step - loss: 14.5860 - price_output_loss: 12.8859 - ptratio_output_loss: 1.7001 - price_output_root_mean_squared_error: 3.5733 - ptratio_output_root_mean_squared_error: 1.2985 - val_loss: 13.9208 - val_price_output_loss: 11.3451 - val_ptratio_output_loss: 2.5758 - val_price_output_root_mean_squared_error: 3.3682 - val_ptratio_output_root_mean_squared_error: 1.6049\n",
            "Epoch 47/100\n",
            "33/33 [==============================] - 0s 3ms/step - loss: 12.3361 - price_output_loss: 10.4844 - ptratio_output_loss: 1.8517 - price_output_root_mean_squared_error: 3.2324 - ptratio_output_root_mean_squared_error: 1.3603 - val_loss: 14.4529 - val_price_output_loss: 11.8484 - val_ptratio_output_loss: 2.6045 - val_price_output_root_mean_squared_error: 3.4421 - val_ptratio_output_root_mean_squared_error: 1.6139\n",
            "Epoch 48/100\n",
            "33/33 [==============================] - 0s 3ms/step - loss: 12.7247 - price_output_loss: 10.8849 - ptratio_output_loss: 1.8398 - price_output_root_mean_squared_error: 3.2923 - ptratio_output_root_mean_squared_error: 1.3555 - val_loss: 14.6473 - val_price_output_loss: 11.9413 - val_ptratio_output_loss: 2.7061 - val_price_output_root_mean_squared_error: 3.4556 - val_ptratio_output_root_mean_squared_error: 1.6450\n",
            "Epoch 49/100\n",
            "33/33 [==============================] - 0s 3ms/step - loss: 13.8379 - price_output_loss: 11.8763 - ptratio_output_loss: 1.9616 - price_output_root_mean_squared_error: 3.4366 - ptratio_output_root_mean_squared_error: 1.3997 - val_loss: 14.3064 - val_price_output_loss: 11.0788 - val_ptratio_output_loss: 3.2276 - val_price_output_root_mean_squared_error: 3.3285 - val_ptratio_output_root_mean_squared_error: 1.7966\n",
            "Epoch 50/100\n",
            "33/33 [==============================] - 0s 3ms/step - loss: 15.1518 - price_output_loss: 13.1846 - ptratio_output_loss: 1.9672 - price_output_root_mean_squared_error: 3.5747 - ptratio_output_root_mean_squared_error: 1.4011 - val_loss: 14.1077 - val_price_output_loss: 11.3841 - val_ptratio_output_loss: 2.7236 - val_price_output_root_mean_squared_error: 3.3740 - val_ptratio_output_root_mean_squared_error: 1.6503\n",
            "Epoch 51/100\n",
            "33/33 [==============================] - 0s 3ms/step - loss: 12.0131 - price_output_loss: 10.2364 - ptratio_output_loss: 1.7766 - price_output_root_mean_squared_error: 3.1800 - ptratio_output_root_mean_squared_error: 1.3318 - val_loss: 14.3452 - val_price_output_loss: 11.5335 - val_ptratio_output_loss: 2.8116 - val_price_output_root_mean_squared_error: 3.3961 - val_ptratio_output_root_mean_squared_error: 1.6768\n",
            "Epoch 52/100\n",
            "33/33 [==============================] - 0s 3ms/step - loss: 11.1274 - price_output_loss: 9.1757 - ptratio_output_loss: 1.9517 - price_output_root_mean_squared_error: 3.0176 - ptratio_output_root_mean_squared_error: 1.3926 - val_loss: 15.0317 - val_price_output_loss: 12.0306 - val_ptratio_output_loss: 3.0011 - val_price_output_root_mean_squared_error: 3.4685 - val_ptratio_output_root_mean_squared_error: 1.7324\n",
            "Epoch 53/100\n",
            "33/33 [==============================] - 0s 3ms/step - loss: 12.2139 - price_output_loss: 10.5977 - ptratio_output_loss: 1.6162 - price_output_root_mean_squared_error: 3.2344 - ptratio_output_root_mean_squared_error: 1.2693 - val_loss: 15.4002 - val_price_output_loss: 11.6967 - val_ptratio_output_loss: 3.7035 - val_price_output_root_mean_squared_error: 3.4200 - val_ptratio_output_root_mean_squared_error: 1.9244\n",
            "Epoch 54/100\n",
            "33/33 [==============================] - 0s 3ms/step - loss: 13.6803 - price_output_loss: 11.8420 - ptratio_output_loss: 1.8383 - price_output_root_mean_squared_error: 3.4371 - ptratio_output_root_mean_squared_error: 1.3471 - val_loss: 13.8628 - val_price_output_loss: 11.2172 - val_ptratio_output_loss: 2.6457 - val_price_output_root_mean_squared_error: 3.3492 - val_ptratio_output_root_mean_squared_error: 1.6266\n",
            "Epoch 55/100\n",
            "33/33 [==============================] - 0s 7ms/step - loss: 11.5123 - price_output_loss: 9.5209 - ptratio_output_loss: 1.9914 - price_output_root_mean_squared_error: 3.0779 - ptratio_output_root_mean_squared_error: 1.4019 - val_loss: 13.4893 - val_price_output_loss: 10.9444 - val_ptratio_output_loss: 2.5449 - val_price_output_root_mean_squared_error: 3.3082 - val_ptratio_output_root_mean_squared_error: 1.5953\n",
            "Epoch 56/100\n",
            "33/33 [==============================] - 0s 3ms/step - loss: 12.0411 - price_output_loss: 10.4531 - ptratio_output_loss: 1.5880 - price_output_root_mean_squared_error: 3.1958 - ptratio_output_root_mean_squared_error: 1.2523 - val_loss: 13.7778 - val_price_output_loss: 11.1430 - val_ptratio_output_loss: 2.6347 - val_price_output_root_mean_squared_error: 3.3381 - val_ptratio_output_root_mean_squared_error: 1.6232\n",
            "Epoch 57/100\n",
            "33/33 [==============================] - 0s 3ms/step - loss: 13.4998 - price_output_loss: 11.8398 - ptratio_output_loss: 1.6600 - price_output_root_mean_squared_error: 3.4327 - ptratio_output_root_mean_squared_error: 1.2867 - val_loss: 13.8632 - val_price_output_loss: 11.3010 - val_ptratio_output_loss: 2.5622 - val_price_output_root_mean_squared_error: 3.3617 - val_ptratio_output_root_mean_squared_error: 1.6007\n",
            "Epoch 58/100\n",
            "33/33 [==============================] - 0s 3ms/step - loss: 10.9938 - price_output_loss: 9.1539 - ptratio_output_loss: 1.8399 - price_output_root_mean_squared_error: 3.0190 - ptratio_output_root_mean_squared_error: 1.3545 - val_loss: 14.7456 - val_price_output_loss: 11.8855 - val_ptratio_output_loss: 2.8601 - val_price_output_root_mean_squared_error: 3.4475 - val_ptratio_output_root_mean_squared_error: 1.6912\n",
            "Epoch 59/100\n",
            "33/33 [==============================] - 0s 3ms/step - loss: 11.0812 - price_output_loss: 9.3037 - ptratio_output_loss: 1.7775 - price_output_root_mean_squared_error: 3.0339 - ptratio_output_root_mean_squared_error: 1.3319 - val_loss: 14.2585 - val_price_output_loss: 11.5238 - val_ptratio_output_loss: 2.7347 - val_price_output_root_mean_squared_error: 3.3947 - val_ptratio_output_root_mean_squared_error: 1.6537\n",
            "Epoch 60/100\n",
            "33/33 [==============================] - 0s 3ms/step - loss: 11.9189 - price_output_loss: 10.4690 - ptratio_output_loss: 1.4499 - price_output_root_mean_squared_error: 3.2070 - ptratio_output_root_mean_squared_error: 1.1965 - val_loss: 13.8624 - val_price_output_loss: 11.1437 - val_ptratio_output_loss: 2.7186 - val_price_output_root_mean_squared_error: 3.3382 - val_ptratio_output_root_mean_squared_error: 1.6488\n",
            "Epoch 61/100\n",
            "33/33 [==============================] - 0s 3ms/step - loss: 10.0322 - price_output_loss: 8.3665 - ptratio_output_loss: 1.6657 - price_output_root_mean_squared_error: 2.8688 - ptratio_output_root_mean_squared_error: 1.2900 - val_loss: 14.0598 - val_price_output_loss: 11.1589 - val_ptratio_output_loss: 2.9010 - val_price_output_root_mean_squared_error: 3.3405 - val_ptratio_output_root_mean_squared_error: 1.7032\n",
            "Epoch 62/100\n",
            "33/33 [==============================] - 0s 3ms/step - loss: 14.0279 - price_output_loss: 12.2560 - ptratio_output_loss: 1.7719 - price_output_root_mean_squared_error: 3.4766 - ptratio_output_root_mean_squared_error: 1.3302 - val_loss: 13.7878 - val_price_output_loss: 11.1727 - val_ptratio_output_loss: 2.6151 - val_price_output_root_mean_squared_error: 3.3426 - val_ptratio_output_root_mean_squared_error: 1.6171\n",
            "Epoch 63/100\n",
            "33/33 [==============================] - 0s 3ms/step - loss: 10.9132 - price_output_loss: 9.4237 - ptratio_output_loss: 1.4895 - price_output_root_mean_squared_error: 3.0574 - ptratio_output_root_mean_squared_error: 1.2195 - val_loss: 16.0713 - val_price_output_loss: 13.2960 - val_ptratio_output_loss: 2.7753 - val_price_output_root_mean_squared_error: 3.6464 - val_ptratio_output_root_mean_squared_error: 1.6659\n",
            "Epoch 64/100\n",
            "33/33 [==============================] - 0s 3ms/step - loss: 12.8911 - price_output_loss: 11.2902 - ptratio_output_loss: 1.6009 - price_output_root_mean_squared_error: 3.3402 - ptratio_output_root_mean_squared_error: 1.2633 - val_loss: 13.8143 - val_price_output_loss: 11.1656 - val_ptratio_output_loss: 2.6488 - val_price_output_root_mean_squared_error: 3.3415 - val_ptratio_output_root_mean_squared_error: 1.6275\n",
            "Epoch 65/100\n",
            "33/33 [==============================] - 0s 3ms/step - loss: 12.5749 - price_output_loss: 10.9017 - ptratio_output_loss: 1.6732 - price_output_root_mean_squared_error: 3.2712 - ptratio_output_root_mean_squared_error: 1.2923 - val_loss: 14.2251 - val_price_output_loss: 10.7949 - val_ptratio_output_loss: 3.4302 - val_price_output_root_mean_squared_error: 3.2856 - val_ptratio_output_root_mean_squared_error: 1.8521\n",
            "Epoch 66/100\n",
            "33/33 [==============================] - 0s 3ms/step - loss: 12.1481 - price_output_loss: 10.5980 - ptratio_output_loss: 1.5501 - price_output_root_mean_squared_error: 3.2468 - ptratio_output_root_mean_squared_error: 1.2443 - val_loss: 13.8632 - val_price_output_loss: 11.0664 - val_ptratio_output_loss: 2.7968 - val_price_output_root_mean_squared_error: 3.3266 - val_ptratio_output_root_mean_squared_error: 1.6724\n",
            "Epoch 67/100\n",
            "33/33 [==============================] - 0s 3ms/step - loss: 9.8541 - price_output_loss: 7.9963 - ptratio_output_loss: 1.8578 - price_output_root_mean_squared_error: 2.8075 - ptratio_output_root_mean_squared_error: 1.3542 - val_loss: 13.5295 - val_price_output_loss: 11.0092 - val_ptratio_output_loss: 2.5203 - val_price_output_root_mean_squared_error: 3.3180 - val_ptratio_output_root_mean_squared_error: 1.5876\n",
            "Epoch 68/100\n",
            "33/33 [==============================] - 0s 3ms/step - loss: 13.4933 - price_output_loss: 11.8763 - ptratio_output_loss: 1.6170 - price_output_root_mean_squared_error: 3.4302 - ptratio_output_root_mean_squared_error: 1.2708 - val_loss: 13.6420 - val_price_output_loss: 11.1098 - val_ptratio_output_loss: 2.5321 - val_price_output_root_mean_squared_error: 3.3331 - val_ptratio_output_root_mean_squared_error: 1.5913\n",
            "Epoch 69/100\n",
            "33/33 [==============================] - 0s 3ms/step - loss: 11.2319 - price_output_loss: 9.5671 - ptratio_output_loss: 1.6648 - price_output_root_mean_squared_error: 3.0724 - ptratio_output_root_mean_squared_error: 1.2845 - val_loss: 13.8985 - val_price_output_loss: 11.4100 - val_ptratio_output_loss: 2.4885 - val_price_output_root_mean_squared_error: 3.3779 - val_ptratio_output_root_mean_squared_error: 1.5775\n",
            "Epoch 70/100\n",
            "33/33 [==============================] - 0s 3ms/step - loss: 10.6597 - price_output_loss: 9.2362 - ptratio_output_loss: 1.4235 - price_output_root_mean_squared_error: 3.0126 - ptratio_output_root_mean_squared_error: 1.1904 - val_loss: 13.8173 - val_price_output_loss: 11.2385 - val_ptratio_output_loss: 2.5788 - val_price_output_root_mean_squared_error: 3.3524 - val_ptratio_output_root_mean_squared_error: 1.6059\n",
            "Epoch 71/100\n",
            "33/33 [==============================] - 0s 3ms/step - loss: 9.9251 - price_output_loss: 8.5245 - ptratio_output_loss: 1.4006 - price_output_root_mean_squared_error: 2.8899 - ptratio_output_root_mean_squared_error: 1.1785 - val_loss: 13.5510 - val_price_output_loss: 10.9081 - val_ptratio_output_loss: 2.6429 - val_price_output_root_mean_squared_error: 3.3027 - val_ptratio_output_root_mean_squared_error: 1.6257\n",
            "Epoch 72/100\n",
            "33/33 [==============================] - 0s 3ms/step - loss: 12.1282 - price_output_loss: 10.5734 - ptratio_output_loss: 1.5548 - price_output_root_mean_squared_error: 3.2379 - ptratio_output_root_mean_squared_error: 1.2452 - val_loss: 13.2487 - val_price_output_loss: 10.7561 - val_ptratio_output_loss: 2.4925 - val_price_output_root_mean_squared_error: 3.2797 - val_ptratio_output_root_mean_squared_error: 1.5788\n",
            "Epoch 73/100\n",
            "33/33 [==============================] - 0s 4ms/step - loss: 14.5844 - price_output_loss: 13.2900 - ptratio_output_loss: 1.2944 - price_output_root_mean_squared_error: 3.6162 - ptratio_output_root_mean_squared_error: 1.1276 - val_loss: 14.3519 - val_price_output_loss: 11.7633 - val_ptratio_output_loss: 2.5886 - val_price_output_root_mean_squared_error: 3.4298 - val_ptratio_output_root_mean_squared_error: 1.6089\n",
            "Epoch 74/100\n",
            "33/33 [==============================] - 0s 3ms/step - loss: 9.8027 - price_output_loss: 8.4930 - ptratio_output_loss: 1.3097 - price_output_root_mean_squared_error: 2.8998 - ptratio_output_root_mean_squared_error: 1.1426 - val_loss: 13.5643 - val_price_output_loss: 11.0973 - val_ptratio_output_loss: 2.4670 - val_price_output_root_mean_squared_error: 3.3313 - val_ptratio_output_root_mean_squared_error: 1.5707\n",
            "Epoch 75/100\n",
            "33/33 [==============================] - 0s 3ms/step - loss: 11.1912 - price_output_loss: 9.6281 - ptratio_output_loss: 1.5631 - price_output_root_mean_squared_error: 3.0596 - ptratio_output_root_mean_squared_error: 1.2468 - val_loss: 13.2379 - val_price_output_loss: 10.7414 - val_ptratio_output_loss: 2.4965 - val_price_output_root_mean_squared_error: 3.2774 - val_ptratio_output_root_mean_squared_error: 1.5800\n",
            "Epoch 76/100\n",
            "33/33 [==============================] - 0s 3ms/step - loss: 11.8879 - price_output_loss: 10.6026 - ptratio_output_loss: 1.2853 - price_output_root_mean_squared_error: 3.2394 - ptratio_output_root_mean_squared_error: 1.1317 - val_loss: 13.4760 - val_price_output_loss: 10.8093 - val_ptratio_output_loss: 2.6667 - val_price_output_root_mean_squared_error: 3.2878 - val_ptratio_output_root_mean_squared_error: 1.6330\n",
            "Epoch 77/100\n",
            "33/33 [==============================] - 0s 3ms/step - loss: 13.3729 - price_output_loss: 11.8340 - ptratio_output_loss: 1.5389 - price_output_root_mean_squared_error: 3.4023 - ptratio_output_root_mean_squared_error: 1.2382 - val_loss: 13.0911 - val_price_output_loss: 10.6430 - val_ptratio_output_loss: 2.4481 - val_price_output_root_mean_squared_error: 3.2624 - val_ptratio_output_root_mean_squared_error: 1.5646\n",
            "Epoch 78/100\n",
            "33/33 [==============================] - 0s 3ms/step - loss: 10.6478 - price_output_loss: 9.3316 - ptratio_output_loss: 1.3162 - price_output_root_mean_squared_error: 3.0379 - ptratio_output_root_mean_squared_error: 1.1448 - val_loss: 13.4225 - val_price_output_loss: 10.9720 - val_ptratio_output_loss: 2.4505 - val_price_output_root_mean_squared_error: 3.3124 - val_ptratio_output_root_mean_squared_error: 1.5654\n",
            "Epoch 79/100\n",
            "33/33 [==============================] - 0s 3ms/step - loss: 12.1533 - price_output_loss: 10.8503 - ptratio_output_loss: 1.3030 - price_output_root_mean_squared_error: 3.2718 - ptratio_output_root_mean_squared_error: 1.1355 - val_loss: 13.1774 - val_price_output_loss: 10.5201 - val_ptratio_output_loss: 2.6573 - val_price_output_root_mean_squared_error: 3.2435 - val_ptratio_output_root_mean_squared_error: 1.6301\n",
            "Epoch 80/100\n",
            "33/33 [==============================] - 0s 3ms/step - loss: 12.2170 - price_output_loss: 10.6940 - ptratio_output_loss: 1.5230 - price_output_root_mean_squared_error: 3.2644 - ptratio_output_root_mean_squared_error: 1.2299 - val_loss: 14.0954 - val_price_output_loss: 11.6364 - val_ptratio_output_loss: 2.4590 - val_price_output_root_mean_squared_error: 3.4112 - val_ptratio_output_root_mean_squared_error: 1.5681\n",
            "Epoch 81/100\n",
            "33/33 [==============================] - 0s 3ms/step - loss: 7.8360 - price_output_loss: 6.3941 - ptratio_output_loss: 1.4419 - price_output_root_mean_squared_error: 2.5008 - ptratio_output_root_mean_squared_error: 1.1993 - val_loss: 14.0459 - val_price_output_loss: 11.4678 - val_ptratio_output_loss: 2.5782 - val_price_output_root_mean_squared_error: 3.3864 - val_ptratio_output_root_mean_squared_error: 1.6057\n",
            "Epoch 82/100\n",
            "33/33 [==============================] - 0s 3ms/step - loss: 11.0207 - price_output_loss: 9.3896 - ptratio_output_loss: 1.6311 - price_output_root_mean_squared_error: 3.0576 - ptratio_output_root_mean_squared_error: 1.2698 - val_loss: 13.2456 - val_price_output_loss: 10.8516 - val_ptratio_output_loss: 2.3939 - val_price_output_root_mean_squared_error: 3.2942 - val_ptratio_output_root_mean_squared_error: 1.5472\n",
            "Epoch 83/100\n",
            "33/33 [==============================] - 0s 3ms/step - loss: 14.1521 - price_output_loss: 12.8092 - ptratio_output_loss: 1.3429 - price_output_root_mean_squared_error: 3.5256 - ptratio_output_root_mean_squared_error: 1.1582 - val_loss: 13.3321 - val_price_output_loss: 10.8794 - val_ptratio_output_loss: 2.4527 - val_price_output_root_mean_squared_error: 3.2984 - val_ptratio_output_root_mean_squared_error: 1.5661\n",
            "Epoch 84/100\n",
            "33/33 [==============================] - 0s 4ms/step - loss: 8.6261 - price_output_loss: 7.0860 - ptratio_output_loss: 1.5401 - price_output_root_mean_squared_error: 2.6486 - ptratio_output_root_mean_squared_error: 1.2369 - val_loss: 16.3206 - val_price_output_loss: 13.5714 - val_ptratio_output_loss: 2.7491 - val_price_output_root_mean_squared_error: 3.6839 - val_ptratio_output_root_mean_squared_error: 1.6581\n",
            "Epoch 85/100\n",
            "33/33 [==============================] - 0s 3ms/step - loss: 11.1944 - price_output_loss: 9.8216 - ptratio_output_loss: 1.3728 - price_output_root_mean_squared_error: 3.1241 - ptratio_output_root_mean_squared_error: 1.1688 - val_loss: 12.8019 - val_price_output_loss: 10.4727 - val_ptratio_output_loss: 2.3293 - val_price_output_root_mean_squared_error: 3.2362 - val_ptratio_output_root_mean_squared_error: 1.5262\n",
            "Epoch 86/100\n",
            "33/33 [==============================] - 0s 3ms/step - loss: 10.3325 - price_output_loss: 8.9701 - ptratio_output_loss: 1.3625 - price_output_root_mean_squared_error: 2.9899 - ptratio_output_root_mean_squared_error: 1.1661 - val_loss: 13.6948 - val_price_output_loss: 11.1979 - val_ptratio_output_loss: 2.4969 - val_price_output_root_mean_squared_error: 3.3463 - val_ptratio_output_root_mean_squared_error: 1.5802\n",
            "Epoch 87/100\n",
            "33/33 [==============================] - 0s 3ms/step - loss: 11.8029 - price_output_loss: 10.5711 - ptratio_output_loss: 1.2318 - price_output_root_mean_squared_error: 3.2474 - ptratio_output_root_mean_squared_error: 1.1054 - val_loss: 13.0429 - val_price_output_loss: 10.4263 - val_ptratio_output_loss: 2.6167 - val_price_output_root_mean_squared_error: 3.2290 - val_ptratio_output_root_mean_squared_error: 1.6176\n",
            "Epoch 88/100\n",
            "33/33 [==============================] - 0s 3ms/step - loss: 8.9780 - price_output_loss: 7.6430 - ptratio_output_loss: 1.3349 - price_output_root_mean_squared_error: 2.7543 - ptratio_output_root_mean_squared_error: 1.1539 - val_loss: 15.4912 - val_price_output_loss: 13.0067 - val_ptratio_output_loss: 2.4845 - val_price_output_root_mean_squared_error: 3.6065 - val_ptratio_output_root_mean_squared_error: 1.5762\n",
            "Epoch 89/100\n",
            "33/33 [==============================] - 0s 3ms/step - loss: 11.0379 - price_output_loss: 9.6945 - ptratio_output_loss: 1.3434 - price_output_root_mean_squared_error: 3.1097 - ptratio_output_root_mean_squared_error: 1.1565 - val_loss: 13.0560 - val_price_output_loss: 10.6636 - val_ptratio_output_loss: 2.3924 - val_price_output_root_mean_squared_error: 3.2655 - val_ptratio_output_root_mean_squared_error: 1.5468\n",
            "Epoch 90/100\n",
            "33/33 [==============================] - 0s 3ms/step - loss: 12.3059 - price_output_loss: 10.9659 - ptratio_output_loss: 1.3400 - price_output_root_mean_squared_error: 3.2973 - ptratio_output_root_mean_squared_error: 1.1553 - val_loss: 13.2606 - val_price_output_loss: 10.8513 - val_ptratio_output_loss: 2.4094 - val_price_output_root_mean_squared_error: 3.2941 - val_ptratio_output_root_mean_squared_error: 1.5522\n",
            "Epoch 91/100\n",
            "33/33 [==============================] - 0s 3ms/step - loss: 11.6725 - price_output_loss: 10.2817 - ptratio_output_loss: 1.3908 - price_output_root_mean_squared_error: 3.1992 - ptratio_output_root_mean_squared_error: 1.1773 - val_loss: 12.9286 - val_price_output_loss: 10.3975 - val_ptratio_output_loss: 2.5311 - val_price_output_root_mean_squared_error: 3.2245 - val_ptratio_output_root_mean_squared_error: 1.5909\n",
            "Epoch 92/100\n",
            "33/33 [==============================] - 0s 3ms/step - loss: 12.1459 - price_output_loss: 10.9466 - ptratio_output_loss: 1.1992 - price_output_root_mean_squared_error: 3.2818 - ptratio_output_root_mean_squared_error: 1.0939 - val_loss: 13.0328 - val_price_output_loss: 10.7801 - val_ptratio_output_loss: 2.2527 - val_price_output_root_mean_squared_error: 3.2833 - val_ptratio_output_root_mean_squared_error: 1.5009\n",
            "Epoch 93/100\n",
            "33/33 [==============================] - 0s 3ms/step - loss: 9.9981 - price_output_loss: 8.6631 - ptratio_output_loss: 1.3350 - price_output_root_mean_squared_error: 2.9283 - ptratio_output_root_mean_squared_error: 1.1522 - val_loss: 13.4354 - val_price_output_loss: 10.9942 - val_ptratio_output_loss: 2.4412 - val_price_output_root_mean_squared_error: 3.3158 - val_ptratio_output_root_mean_squared_error: 1.5624\n",
            "Epoch 94/100\n",
            "33/33 [==============================] - 0s 3ms/step - loss: 9.5513 - price_output_loss: 8.3561 - ptratio_output_loss: 1.1953 - price_output_root_mean_squared_error: 2.8711 - ptratio_output_root_mean_squared_error: 1.0917 - val_loss: 15.0962 - val_price_output_loss: 12.3319 - val_ptratio_output_loss: 2.7643 - val_price_output_root_mean_squared_error: 3.5117 - val_ptratio_output_root_mean_squared_error: 1.6626\n",
            "Epoch 95/100\n",
            "33/33 [==============================] - 0s 3ms/step - loss: 11.1109 - price_output_loss: 9.8851 - ptratio_output_loss: 1.2258 - price_output_root_mean_squared_error: 3.1334 - ptratio_output_root_mean_squared_error: 1.1060 - val_loss: 13.3307 - val_price_output_loss: 10.9404 - val_ptratio_output_loss: 2.3904 - val_price_output_root_mean_squared_error: 3.3076 - val_ptratio_output_root_mean_squared_error: 1.5461\n",
            "Epoch 96/100\n",
            "33/33 [==============================] - 0s 3ms/step - loss: 10.0179 - price_output_loss: 8.6655 - ptratio_output_loss: 1.3524 - price_output_root_mean_squared_error: 2.9231 - ptratio_output_root_mean_squared_error: 1.1614 - val_loss: 13.6674 - val_price_output_loss: 10.8799 - val_ptratio_output_loss: 2.7875 - val_price_output_root_mean_squared_error: 3.2985 - val_ptratio_output_root_mean_squared_error: 1.6696\n",
            "Epoch 97/100\n",
            "33/33 [==============================] - 0s 7ms/step - loss: 11.3618 - price_output_loss: 10.0426 - ptratio_output_loss: 1.3192 - price_output_root_mean_squared_error: 3.1573 - ptratio_output_root_mean_squared_error: 1.1437 - val_loss: 12.5192 - val_price_output_loss: 10.0876 - val_ptratio_output_loss: 2.4316 - val_price_output_root_mean_squared_error: 3.1761 - val_ptratio_output_root_mean_squared_error: 1.5594\n",
            "Epoch 98/100\n",
            "33/33 [==============================] - 0s 3ms/step - loss: 9.4533 - price_output_loss: 8.4578 - ptratio_output_loss: 0.9956 - price_output_root_mean_squared_error: 2.8813 - ptratio_output_root_mean_squared_error: 0.9935 - val_loss: 12.7792 - val_price_output_loss: 10.2710 - val_ptratio_output_loss: 2.5081 - val_price_output_root_mean_squared_error: 3.2048 - val_ptratio_output_root_mean_squared_error: 1.5837\n",
            "Epoch 99/100\n",
            "33/33 [==============================] - 0s 3ms/step - loss: 7.9328 - price_output_loss: 6.6036 - ptratio_output_loss: 1.3292 - price_output_root_mean_squared_error: 2.5501 - ptratio_output_root_mean_squared_error: 1.1515 - val_loss: 14.7090 - val_price_output_loss: 12.3411 - val_ptratio_output_loss: 2.3678 - val_price_output_root_mean_squared_error: 3.5130 - val_ptratio_output_root_mean_squared_error: 1.5388\n",
            "Epoch 100/100\n",
            "33/33 [==============================] - 0s 3ms/step - loss: 9.1473 - price_output_loss: 8.0353 - ptratio_output_loss: 1.1120 - price_output_root_mean_squared_error: 2.8205 - ptratio_output_root_mean_squared_error: 1.0535 - val_loss: 13.5655 - val_price_output_loss: 11.3278 - val_ptratio_output_loss: 2.2377 - val_price_output_root_mean_squared_error: 3.3657 - val_ptratio_output_root_mean_squared_error: 1.4959\n"
          ],
          "name": "stdout"
        }
      ]
    },
    {
      "cell_type": "code",
      "metadata": {
        "pycharm": {
          "name": "#%%\n"
        },
        "colab": {
          "base_uri": "https://localhost:8080/"
        },
        "id": "N81PqUDJhc5P",
        "outputId": "c91bfeb2-50af-40cb-dfd0-e7f02650aa61"
      },
      "source": [
        "# Test the model and print loss and rmse for both outputs\n",
        "loss, Y1_loss, Y2_loss, Y1_rmse, Y2_rmse = model.evaluate(x=norm_val_X, y=val_Y)\n",
        "\n",
        "print()\n",
        "print(f'loss: {loss}')\n",
        "print(f'price_loss: {Y1_loss}')\n",
        "print(f'ptratio_loss: {Y2_loss}')\n",
        "print(f'price_rmse: {Y1_rmse}')\n",
        "print(f'ptratio_rmse: {Y2_rmse}')"
      ],
      "execution_count": null,
      "outputs": [
        {
          "output_type": "stream",
          "text": [
            "3/3 [==============================] - 0s 4ms/step - loss: 14.0561 - price_output_loss: 12.1983 - ptratio_output_loss: 1.8579 - price_output_root_mean_squared_error: 3.4926 - ptratio_output_root_mean_squared_error: 1.3630\n",
            "\n",
            "loss: 14.056143760681152\n",
            "price_loss: 12.19827651977539\n",
            "ptratio_loss: 1.8578675985336304\n",
            "price_rmse: 3.492603063583374\n",
            "ptratio_rmse: 1.3630361557006836\n"
          ],
          "name": "stdout"
        }
      ]
    },
    {
      "cell_type": "code",
      "metadata": {
        "pycharm": {
          "name": "#%%\n"
        },
        "id": "uvPTpvo5hc5P"
      },
      "source": [
        "def plot_diff(y_true, y_pred, title=''):\n",
        "    plt.scatter(y_true, y_pred)\n",
        "    plt.title(title)\n",
        "    plt.xlabel('True Values')\n",
        "    plt.ylabel('Predictions')\n",
        "    plt.axis('equal')\n",
        "    plt.axis('square')\n",
        "    plt.xlim(plt.xlim())\n",
        "    plt.ylim(plt.ylim())\n",
        "    plt.plot([-100, 100], [-100, 100])\n",
        "    plt.show()\n",
        "\n",
        "\n",
        "def plot_metrics(metric_name, title, ylim=5):\n",
        "    plt.title(title)\n",
        "    plt.ylim(0, ylim)\n",
        "    plt.plot(history.history[metric_name], color='blue', label=metric_name)\n",
        "    plt.plot(history.history['val_' + metric_name], color='green', label='val_' + metric_name)\n",
        "    plt.show()"
      ],
      "execution_count": null,
      "outputs": []
    },
    {
      "cell_type": "code",
      "metadata": {
        "pycharm": {
          "name": "#%%\n"
        },
        "colab": {
          "base_uri": "https://localhost:8080/",
          "height": 573
        },
        "id": "zJVDmJxchc5P",
        "outputId": "6312ce64-3363-4935-efc1-7c2657137ee4"
      },
      "source": [
        "# Run predict\n",
        "Y_pred = model.predict(norm_test_X)\n",
        "price_pred = Y_pred[0]\n",
        "ptratio_pred = Y_pred[1]\n",
        "\n",
        "plot_diff(test_Y[0], Y_pred[0], title='PRICE')\n",
        "plot_diff(test_Y[1], Y_pred[1], title='PTRATIO')"
      ],
      "execution_count": null,
      "outputs": [
        {
          "output_type": "display_data",
          "data": {
            "image/png": "[encoded data removed]",
            "text/plain": [
              "<Figure size 432x288 with 1 Axes>"
            ]
          },
          "metadata": {
            "tags": [],
            "needs_background": "light"
          }
        },
        {
          "output_type": "display_data",
          "data": {
            "image/png": "[encoded data removed]",
            "text/plain": [
              "<Figure size 432x288 with 1 Axes>"
            ]
          },
          "metadata": {
            "tags": [],
            "needs_background": "light"
          }
        }
      ]
    },
    {
      "cell_type": "code",
      "metadata": {
        "pycharm": {
          "name": "#%%\n"
        },
        "colab": {
          "base_uri": "https://localhost:8080/",
          "height": 545
        },
        "id": "n6SCtYEjhc5Q",
        "outputId": "2f116c2c-5712-49f1-b042-e2384c88c620"
      },
      "source": [
        "# Plot RMSE\n",
        "plot_metrics(metric_name='price_output_root_mean_squared_error', title='PRICE RMSE', ylim=15)\n",
        "plot_metrics(metric_name='ptratio_output_root_mean_squared_error', title='PTRATIO RMSE', ylim=7)"
      ],
      "execution_count": null,
      "outputs": [
        {
          "output_type": "display_data",
          "data": {
            "image/png": "[encoded data removed]",
            "text/plain": [
              "<Figure size 432x288 with 1 Axes>"
            ]
          },
          "metadata": {
            "tags": [],
            "needs_background": "light"
          }
        },
        {
          "output_type": "display_data",
          "data": {
            "image/png": "[encoded data removed]",
            "text/plain": [
              "<Figure size 432x288 with 1 Axes>"
            ]
          },
          "metadata": {
            "tags": [],
            "needs_background": "light"
          }
        }
      ]
    },
    {
      "cell_type": "code",
      "metadata": {
        "pycharm": {
          "name": "#%%\n"
        },
        "colab": {
          "base_uri": "https://localhost:8080/",
          "height": 545
        },
        "id": "TFHAVEDthc5Q",
        "outputId": "78b09c1a-902d-4e5a-899e-2312cd418153"
      },
      "source": [
        "# Plot loss\n",
        "plot_metrics(metric_name='price_output_loss', title='PRICE LOSS', ylim=50)\n",
        "plot_metrics(metric_name='ptratio_output_loss', title='PTRATIO LOSS', ylim=15)"
      ],
      "execution_count": null,
      "outputs": [
        {
          "output_type": "display_data",
          "data": {
            "image/png": "[encoded data removed]",
            "text/plain": [
              "<Figure size 432x288 with 1 Axes>"
            ]
          },
          "metadata": {
            "tags": [],
            "needs_background": "light"
          }
        },
        {
          "output_type": "display_data",
          "data": {
            "image/png": "[encoded data removed]",
            "text/plain": [
              "<Figure size 432x288 with 1 Axes>"
            ]
          },
          "metadata": {
            "tags": [],
            "needs_background": "light"
          }
        }
      ]
    },
    {
      "cell_type": "code",
      "metadata": {
        "pycharm": {
          "name": "#%%\n"
        },
        "colab": {
          "base_uri": "https://localhost:8080/"
        },
        "id": "0LEhCRNOhc5Q",
        "outputId": "3b13900d-b371-48bc-87a2-1efe6e66bba6"
      },
      "source": [
        "# Save model\n",
        "model.save('./model_boston/', save_format='tf')"
      ],
      "execution_count": null,
      "outputs": [
        {
          "output_type": "stream",
          "text": [
            "WARNING:tensorflow:From /usr/local/lib/python3.6/dist-packages/tensorflow/python/training/tracking/tracking.py:111: Model.state_updates (from tensorflow.python.keras.engine.training) is deprecated and will be removed in a future version.\n",
            "Instructions for updating:\n",
            "This property should not be used in TensorFlow 2.0, as updates are applied automatically.\n",
            "WARNING:tensorflow:From /usr/local/lib/python3.6/dist-packages/tensorflow/python/training/tracking/tracking.py:111: Layer.updates (from tensorflow.python.keras.engine.base_layer) is deprecated and will be removed in a future version.\n",
            "Instructions for updating:\n",
            "This property should not be used in TensorFlow 2.0, as updates are applied automatically.\n",
            "INFO:tensorflow:Assets written to: ./model_boston/assets\n"
          ],
          "name": "stdout"
        }
      ]
    },
    {
      "cell_type": "code",
      "metadata": {
        "pycharm": {
          "name": "#%%\n"
        },
        "id": "lesdN6kAhc5Q"
      },
      "source": [
        "# Restore model\n",
        "loaded_model = tf.keras.models.load_model('./model_boston/')"
      ],
      "execution_count": null,
      "outputs": []
    },
    {
      "cell_type": "code",
      "metadata": {
        "pycharm": {
          "name": "#%%\n"
        },
        "id": "go-B_jmyhc5R"
      },
      "source": [
        "# Run predict with restored model\n",
        "predictions = loaded_model.predict(norm_test_X)\n",
        "price_pred = predictions[0]\n",
        "ptratio_pred = predictions[1]"
      ],
      "execution_count": null,
      "outputs": []
    },
    {
      "cell_type": "code",
      "metadata": {
        "pycharm": {
          "name": "#%%\n"
        },
        "id": "iIy3xlyFhc5R"
      },
      "source": [
        ""
      ],
      "execution_count": null,
      "outputs": []
    }
  ]
}