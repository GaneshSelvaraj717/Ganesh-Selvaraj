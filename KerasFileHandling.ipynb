{
  "nbformat": 4,
  "nbformat_minor": 0,
  "metadata": {
    "colab": {
      "name": "Untitled1.ipynb",
      "provenance": [],
      "collapsed_sections": [],
      "authorship_tag": "ABX9TyOe9vpt6/qmnjJiZmXlFwW1",
      "include_colab_link": true
    },
    "kernelspec": {
      "name": "python3",
      "display_name": "Python 3"
    },
    "language_info": {
      "name": "python"
    }
  },
  "cells": [
    {
      "cell_type": "markdown",
      "metadata": {
        "id": "view-in-github",
        "colab_type": "text"
      },
      "source": [
        "<a href=\"https://colab.research.google.com/github/GaneshSelvaraj717/Ganesh-Selvaraj/blob/master/KerasFileHandling.ipynb\" target=\"_parent\"><img src=\"https://colab.research.google.com/assets/colab-badge.svg\" alt=\"Open In Colab\"/></a>"
      ]
    },
    {
      "cell_type": "code",
      "metadata": {
        "colab": {
          "base_uri": "https://localhost:8080/"
        },
        "id": "ISu5eC4q92N4",
        "outputId": "79e3cd4f-5d26-49f9-93d3-1e0e5ad74f32"
      },
      "source": [
        "# example of loading an image with the Keras API\n",
        "from keras.preprocessing.image import load_img\n",
        "# load the image\n",
        "img = load_img('bondi_beach.jpg')\n",
        "# report details about the image\n",
        "print(type(img))\n",
        "print(img.format)\n",
        "print(img.mode)\n",
        "print(img.size)\n",
        "# show the image\n",
        "img.show()"
      ],
      "execution_count": 3,
      "outputs": [
        {
          "output_type": "stream",
          "text": [
            "<class 'PIL.JpegImagePlugin.JpegImageFile'>\n",
            "JPEG\n",
            "RGB\n",
            "(640, 427)\n"
          ],
          "name": "stdout"
        }
      ]
    },
    {
      "cell_type": "code",
      "metadata": {
        "id": "bSPvZjAI-G7i"
      },
      "source": [
        ""
      ],
      "execution_count": null,
      "outputs": []
    }
  ]
}